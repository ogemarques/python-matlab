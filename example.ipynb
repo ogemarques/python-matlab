{
 "cells": [
  {
   "cell_type": "markdown",
   "metadata": {},
   "source": [
    "# Example"
   ]
  },
  {
   "cell_type": "markdown",
   "metadata": {},
   "source": [
    "## Python and MATLAB"
   ]
  },
  {
   "cell_type": "markdown",
   "metadata": {},
   "source": [
    "## Integrating MATLAB code with Python \n",
    "\n",
    "(VERBATIM fro Lucas; must edit!)\n",
    "\n",
    "The key element in facilitating the call of MATLAB from Python is the MATLAB Engine API for Python. \n",
    "\n",
    "(A few notes about permissions/sudo, Python version (2 vs. 3), and OS-specific issues you might face.)\n",
    "\n",
    "In my case, this worked:\n",
    "\n",
    "cd (fullfile(matlabroot,'extern','engines','python'))\n",
    "\n",
    "system('sudo /Library/Frameworks/Python.framework/Versions/3.9/bin/python3 setup.py build -b /Users/oge/MATLAB/python-matlab install --prefix=\"matlab21bPy39\"')\n",
    "\n",
    "Once installed, you may use it to call MATLAB functions and exchange data between Python and MATLAB by using the classes included in the `matlab` package.\n",
    "\n",
    "We start by calling the `matlab.engine.start_matlab` function, which starts a new MATLAB process in the background:"
   ]
  },
  {
   "cell_type": "markdown",
   "metadata": {},
   "source": []
  },
  {
   "cell_type": "code",
   "execution_count": 1,
   "metadata": {},
   "outputs": [
    {
     "data": {
      "text/plain": [
       "'/Users/oge/MATLAB/python-matlab'"
      ]
     },
     "execution_count": 1,
     "metadata": {},
     "output_type": "execute_result"
    }
   ],
   "source": [
    "import os \n",
    "os.getcwd()"
   ]
  },
  {
   "cell_type": "code",
   "execution_count": 2,
   "metadata": {},
   "outputs": [],
   "source": [
    "sys.path.append(\"matlab21bPy39\")"
   ]
  },
  {
   "cell_type": "code",
   "execution_count": 9,
   "metadata": {},
   "outputs": [],
   "source": [
    "os.chdir(\"/Users/oge/MATLAB/python-matlab/lib\")\n",
    "cwd = os.getcwd()"
   ]
  },
  {
   "cell_type": "code",
   "execution_count": 12,
   "metadata": {},
   "outputs": [],
   "source": [
    "import matlab.engine\n",
    "eng = matlab.engine.start_matlab('-desktop')\n"
   ]
  },
  {
   "cell_type": "code",
   "execution_count": 13,
   "metadata": {},
   "outputs": [],
   "source": [
    "skinImagesPath = os.path.join(cwd, \"..\", \"images\", \"benign\")\n",
    "eng.imageLabeler(skinImagesPath, nargout=0)"
   ]
  },
  {
   "cell_type": "markdown",
   "metadata": {},
   "source": [
    "Back in Python, gather the variables you will need to use in the remaining of your workflow."
   ]
  },
  {
   "cell_type": "code",
   "execution_count": 14,
   "metadata": {},
   "outputs": [],
   "source": [
    "imageFilename = eng.eval(\"gTruth.imageFilename\")\n",
    "labels = eng.eval(\"gTruth.lesion\")"
   ]
  },
  {
   "cell_type": "code",
   "execution_count": 15,
   "metadata": {},
   "outputs": [],
   "source": [
    "import pandas as pd\n",
    "import numpy as np\n",
    "\n",
    "# Bring data to convenient form as DataFrame\n",
    "labels = [np.array(x) for x in labels]\n",
    "df = pd.DataFrame({\"imageFileName\":imageFilename, \"lesion\":labels})"
   ]
  },
  {
   "cell_type": "code",
   "execution_count": 18,
   "metadata": {},
   "outputs": [
    {
     "data": {
      "text/plain": [
       "'imageFileName,lesion\\n/Users/oge/MATLAB/python-matlab/images/benign/ISIC_0000017.jpg,[[446. 273. 569. 595.]]\\n/Users/oge/MATLAB/python-matlab/images/benign/ISIC_0000019.jpg,[[220. 237. 912. 773.]]\\n/Users/oge/MATLAB/python-matlab/images/benign/ISIC_0000028.jpg,[[253. 299. 926. 631.]]\\n/Users/oge/MATLAB/python-matlab/images/benign/ISIC_0000034.jpg,[[370. 344. 886. 515.]]\\n/Users/oge/MATLAB/python-matlab/images/benign/ISIC_0000039.jpg,[[355. 271. 733. 661.]]\\n/Users/oge/MATLAB/python-matlab/images/benign/ISIC_0000041.jpg,[[439. 315. 379. 454.]]\\n/Users/oge/MATLAB/python-matlab/images/benign/ISIC_0000047.jpg,[[319. 248. 705. 660.]]\\n/Users/oge/MATLAB/python-matlab/images/benign/ISIC_0000048.jpg,[[428. 293. 419. 635.]]\\n/Users/oge/MATLAB/python-matlab/images/benign/ISIC_0000061.jpg,[[328. 228. 857. 777.]]\\n/Users/oge/MATLAB/python-matlab/images/benign/ISIC_0000062.jpg,[[517. 324. 367. 533.]]\\n'"
      ]
     },
     "execution_count": 18,
     "metadata": {},
     "output_type": "execute_result"
    }
   ],
   "source": [
    "df.to_csv(index=False)"
   ]
  },
  {
   "cell_type": "markdown",
   "metadata": {},
   "source": [
    "Save dataframe to disk"
   ]
  },
  {
   "cell_type": "code",
   "execution_count": 19,
   "metadata": {},
   "outputs": [],
   "source": [
    "compression_opts = dict(method='zip', archive_name='out.csv')\n",
    "df.to_csv('/Users/oge/MATLAB/python-matlab/out.zip', index=False, compression=compression_opts)"
   ]
  },
  {
   "cell_type": "markdown",
   "metadata": {},
   "source": [
    "Do whatever you want to do (on the Python side) with this."
   ]
  },
  {
   "cell_type": "code",
   "execution_count": 16,
   "metadata": {},
   "outputs": [],
   "source": [
    "eng.exit()"
   ]
  }
 ],
 "metadata": {
  "interpreter": {
   "hash": "7812ea015bdcee6f23a998adcdd2ef97c151c0c241b7b7070987d9313e41299d"
  },
  "kernelspec": {
   "display_name": "Python 3.9.0 64-bit",
   "name": "python3"
  },
  "language_info": {
   "codemirror_mode": {
    "name": "ipython",
    "version": 3
   },
   "file_extension": ".py",
   "mimetype": "text/x-python",
   "name": "python",
   "nbconvert_exporter": "python",
   "pygments_lexer": "ipython3",
   "version": "3.9.0"
  }
 },
 "nbformat": 4,
 "nbformat_minor": 2
}
